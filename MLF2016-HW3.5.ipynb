{
 "cells": [
  {
   "cell_type": "markdown",
   "metadata": {},
   "source": [
    "This is the assignment of Machine Learning Foundation 2016, given by Prof. Hsuan-Tien Lin, Dept. of CSIE, NTU\n",
    "\n",
    "[Original link](https://www.csie.ntu.edu.tw/~htlin/course/mlfound16fall/hw3.5)"
   ]
  },
  {
   "cell_type": "code",
   "execution_count": 1,
   "metadata": {},
   "outputs": [],
   "source": [
    "import numpy as np\n",
    "import matplotlib.pyplot as plt\n",
    "import time"
   ]
  },
  {
   "cell_type": "code",
   "execution_count": 2,
   "metadata": {},
   "outputs": [],
   "source": [
    "def LoadData(path):\n",
    "    arr = np.loadtxt(path)\n",
    "    return np.c_[np.ones(len(arr)), arr[:,0:-1]], arr[:,-1] # x and y\n",
    "\n",
    "#logistic function\n",
    "def sigmoid(x):\n",
    "    return 1.0/(1 + np.exp(-x))\n",
    "\n",
    "#Error rate (0/1 error)\n",
    "def Err(w, x, y):\n",
    "    s = np.dot(w, x.T)\n",
    "    yp = np.where(s>=0,1.0,-1.0)\n",
    "    Eout = np.sum(yp!=y) / len(y)\n",
    "    return Eout"
   ]
  },
  {
   "cell_type": "markdown",
   "metadata": {},
   "source": [
    "### Experiments with Logistic Regression "
   ]
  },
  {
   "cell_type": "markdown",
   "metadata": {},
   "source": [
    "<ol start=\"11\">\n",
    "  <li>Implement the **fixed learning rate gradient descent algorithm** below for logistic regression, initialized with 0. Run the algorithm with $\\eta = 0.001$ and $T = 2000$ on the following set for training: [hw3_train.dat](http://www.csie.ntu.edu.tw/~htlin/course/ml15fall/hw3/hw3_train.dat) and the following set for testing: [hw3_test.dat](http://www.csie.ntu.edu.tw/~htlin/course/ml15fall/hw3/hw3_test.dat). What is the weight vector within your $g$? What is the $E_{out}(g)$ from your algorithm, evaluated using the 0/1 error on the test set? \n",
    "    </li>\n",
    "</ol>"
   ]
  },
  {
   "cell_type": "markdown",
   "metadata": {},
   "source": [
    "<ol start=\"12\">\n",
    "  <li>Implement the **fixed learning rate stochastic gradient descent algorithm** below for logistic regression, initialized with 0. Instead of randomly choosing $n$ in each iteration, please simply pick the example with the cyclic order $n = 1,2,...,N,1,2,...$.Run the algorithm with $\\eta = 0.001$ and $T = 2000$ on the following set for training: [hw3_train.dat](http://www.csie.ntu.edu.tw/~htlin/course/ml15fall/hw3/hw3_train.dat) and the following set for testing: [hw3_test.dat](http://www.csie.ntu.edu.tw/~htlin/course/ml15fall/hw3/hw3_test.dat). What is the weight vector within your g? What is the $E_{out}(g)$ from your algorithm, evaluated using the 0/1 error on the test set? \n",
    "    </li>\n",
    "</ol>"
   ]
  },
  {
   "cell_type": "code",
   "execution_count": 3,
   "metadata": {},
   "outputs": [
    {
     "name": "stdout",
     "output_type": "stream",
     "text": [
      "11. gradient descent:\n",
      "w = [ 0.01878417 -0.01260595  0.04084862 -0.03266317  0.01502334 -0.03667437\n",
      "  0.01255934  0.04815065 -0.02206419  0.02479605  0.06899284  0.0193719\n",
      " -0.01988549 -0.0087049   0.04605863  0.05793382  0.061218   -0.04720391\n",
      "  0.06070375 -0.01610907 -0.03484607]\n",
      "Eout = 0.475\n",
      "------------- 0.30645251274108887 sec used -------------\n",
      "\n",
      "12. stochastic gradient descent:\n",
      "w = [ 0.01826899 -0.01308051  0.04072894 -0.03295698  0.01498363 -0.03691042\n",
      "  0.01232819  0.04791334 -0.02244958  0.02470544  0.06878235  0.01897378\n",
      " -0.02032107 -0.00901469  0.04589259  0.05776824  0.06102487 -0.04756147\n",
      "  0.06035018 -0.01660574 -0.03509342]\n",
      "Eout = 0.473\n",
      "------------- 0.01300954818725586 sec used -------------\n"
     ]
    }
   ],
   "source": [
    "eta = 0.001\n",
    "T = 2000\n",
    "    \n",
    "# gradient of GD\n",
    "def grad_GD(w, x, y):\n",
    "    k = np.dot(w, x.T)*-y\n",
    "    theta = sigmoid(k)\n",
    "    s = (-1) * y.reshape(-1,1) * theta.reshape(-1,1) * x\n",
    "    return s.sum(axis=0) / len(x)\n",
    "\n",
    "# gradient of SGD\n",
    "def grad_SGD(w, x, y):\n",
    "    k = np.dot(w, x.T)*-y\n",
    "    s = (-y) * sigmoid(k) * x\n",
    "    return s\n",
    "   \n",
    "#load data   \n",
    "x, y = LoadData(\"hw3_train.dat\")\n",
    "xt, yt = LoadData(\"hw3_test.dat\")\n",
    "dim = len(x[0])   # dimension\n",
    "N = len(x)        # size of training data\n",
    "\n",
    "#Iniialization\n",
    "w1 = np.zeros(dim)\n",
    "w2 = np.zeros(dim)\n",
    "\n",
    "#loop\n",
    "begin = time.time()\n",
    "for _ in range(T):\n",
    "    w1 = w1 - eta*grad_GD(w1, x, y)\n",
    "t_GD = time.time()-begin\n",
    "\n",
    "begin = time.time()\n",
    "for i in range(T):\n",
    "    w2 = w2 - eta*grad_SGD(w2, x[i%N], y[i%N])\n",
    "t_SGD = time.time()-begin\n",
    "\n",
    "print(\"11. gradient descent:\")\n",
    "print(\"w =\", w1)\n",
    "print(\"Eout =\", Err(w1, xt, yt))\n",
    "print(\"-------------\", t_GD,\"sec used -------------\")\n",
    "print()\n",
    "print(\"12. stochastic gradient descent:\")\n",
    "print(\"w =\", w2)\n",
    "print(\"Eout =\", Err(w2, xt, yt))\n",
    "print(\"-------------\", t_SGD,\"sec used -------------\")"
   ]
  },
  {
   "cell_type": "markdown",
   "metadata": {},
   "source": [
    "### Regularized Linear Regression and Validation\n",
    "Consider regularized linear regression (also called ridge regression) for classification. \n",
    "\n",
    "$$w_{reg} = argmin_w \\dfrac{\\lambda}{N} \\lVert w \\rVert^2 + \\dfrac{1}{N} \\lVert Xw-y\\rVert^2 $$\n",
    "\n",
    "Run the algorithm on the following data set as $D$: [hw4_train.dat](http://www.csie.ntu.edu.tw/~htlin/course/ml15fall/hw4/hw4_train.dat) and the following set for evaulating $E_{out}$: [hw4_test.dat](http://www.csie.ntu.edu.tw/~htlin/course/ml15fall/hw4/hw4_test.dat). Because the data sets are for classification, please consider only the 0/1 error for all the problems below. \n"
   ]
  },
  {
   "cell_type": "markdown",
   "metadata": {},
   "source": [
    "<ol start=\"13\">\n",
    "  <li>Let $\\lambda = 1.126$, what is the corresponding $E_{in}$ and $E_{out}$? \n",
    "    </li>\n",
    "</ol>"
   ]
  },
  {
   "cell_type": "code",
   "execution_count": 4,
   "metadata": {},
   "outputs": [
    {
     "name": "stdout",
     "output_type": "stream",
     "text": [
      "13. Ein =  0.035 , Eout =  0.02\n"
     ]
    }
   ],
   "source": [
    "# logistic with regularization\n",
    "# reference: https://en.wikipedia.org/wiki/Tikhonov_regularization\n",
    "def lgr(X, y, lambd):\n",
    "    w = np.dot(np.linalg.inv(np.dot(X.T, X) + lambd*np.eye(len(X[0]))), X.T)\n",
    "    return np.squeeze(np.dot(w, y.reshape((-1, 1))))\n",
    "\n",
    "#load data   \n",
    "x, y = LoadData(\"hw4_train.dat\")\n",
    "xt, yt = LoadData(\"hw4_test.dat\")\n",
    "\n",
    "lambd = 1.126\n",
    "wreg = lgr(x, y, lambd)\n",
    "\n",
    "print(\"13. Ein = \", Err(wreg, x, y),\", Eout = \", Err(wreg, xt, yt))\n"
   ]
  },
  {
   "cell_type": "markdown",
   "metadata": {},
   "source": [
    "<ol start=\"14\">\n",
    "  <li>Plot the curve of $E_{in}$ with respect to $log_{10} \\lambda = \\{2,1,0,-1,...,-8,-9,-10\\}$. What is the $\\lambda$ with the minimum $E_{in}$? What is $E_{out}(g_{\\lambda})$ on such $\\lambda$? Break the tie by selecting the largest $\\lambda$. \n",
    "    </li>\n",
    "</ol>"
   ]
  },
  {
   "cell_type": "markdown",
   "metadata": {},
   "source": [
    "<ol start=\"15\">\n",
    "  <li>Plot the curve of $E_{out}$ with respect to $log_{10} \\lambda = \\{2,1,0,-1,...,-8,-9,-10\\}$. What is the $\\lambda$ with the minimum $E_{out}$? Break the tie by selecting the largest $\\lambda$. \n",
    "    </li>\n",
    "</ol>"
   ]
  },
  {
   "cell_type": "code",
   "execution_count": 5,
   "metadata": {},
   "outputs": [
    {
     "name": "stdout",
     "output_type": "stream",
     "text": [
      "14.\n",
      "Minimum Ein = 0.015 occurs when log(lambda) = [ -8  -9 -10] , Eout = [0.02 0.02 0.02]\n",
      "\n",
      "15.\n",
      "Minimum Eout = 0.015 occurs when log(lambda) = [-7] , Ein = [0.03]\n",
      "\n"
     ]
    },
    {
     "data": {
      "image/png": "[encoded data removed]",
      "text/plain": [
       "<matplotlib.figure.Figure at 0x25a77718278>"
      ]
     },
     "metadata": {},
     "output_type": "display_data"
    }
   ],
   "source": [
    "logLambda = np.array(range(2, -11, -1))\n",
    "Nld = len(logLambda)\n",
    "Lambda = np.power(10*np.ones(Nld), np.array(logLambda))\n",
    "ErrList = np.zeros((Nld,2))\n",
    "\n",
    "for i in range(Nld):\n",
    "    wreg = lgr(x, y, Lambda[i])\n",
    "    ErrList[i] = [Err(wreg, x, y), Err(wreg, xt, yt)]\n",
    "\n",
    "Ein, Eout = ErrList[:,0], ErrList[:,1]\n",
    "mEin, mEout = Ein.min(), Eout.min()\n",
    "mEinI = np.array([i for i in range(Nld) if Ein[i] == mEin])\n",
    "mEoutI = np.array([i for i in range(Nld) if Eout[i] == mEout])\n",
    "\n",
    "print(\"14.\"), print(\"Minimum Ein =\",  mEin,  \"occurs when log(lambda) =\", logLambda[mEinI],  \", Eout =\", Eout[mEinI]), print()\n",
    "print(\"15.\"), print(\"Minimum Eout =\", mEout, \"occurs when log(lambda) =\", logLambda[mEoutI], \", Ein =\",  Ein[mEoutI]), print()\n",
    "\n",
    "fig = plt.figure()\n",
    "fig.suptitle(\"Relation between \" + r\"$\\lambda$\" + \" and \"+r\"$E_{in}$\"+\", \"+r\"$E_{out}$\", fontsize=14, fontweight='bold')\n",
    "ax = fig.add_subplot(111)\n",
    "plt.plot(Lambda, Ein, 'k', label=r\"$E_{in}$\", color='#8F4586')\n",
    "plt.plot(Lambda, Eout, 'k', label=r\"$E_{out}$\", color='#64A600')\n",
    "legend = plt.legend(loc='upper left', shadow=True)\n",
    "ax.annotate('Minimum '+r\"$E_{in}$\"+' = ' + str(mEin), xy=(Lambda[mEinI].max(), mEin), xytext=(Lambda[mEinI].max()*10, mEin+0.07),\n",
    " arrowprops=dict(facecolor='black', shrink=0.05))\n",
    "ax.annotate('Minimum '+r\"$E_{out}$\"+' = ' + str(mEout), xy=(Lambda[mEoutI].max(), mEout), xytext=(Lambda[mEoutI].max()*10, mEin+0.05),\n",
    " arrowprops=dict(facecolor='black', shrink=0.05))\n",
    "plt.ylabel('Expected Value of 0/1 Error'), plt.xlabel(r\"$\\lambda$\")\n",
    "ax.set_xscale('log')\n",
    "legend.get_frame().set_facecolor('#CAFFFF')"
   ]
  },
  {
   "cell_type": "markdown",
   "metadata": {},
   "source": [
    "Now split the given training examples in $D$ to the first 120 examples for $D_{train}$ and 80 for $D_{val}$. Ideally, you should randomly do the $120/80$ split. Because the given examples are already randomly permuted, however, we would use a fixed split for the purpose of this problem. Run the algorithm on $D_{train}$ to get $g_{\\lambda}^{-}$, and validate $g_{\\lambda}^{-}$ with $D_{val}$. "
   ]
  },
  {
   "cell_type": "markdown",
   "metadata": {},
   "source": [
    "<ol start=\"16\">\n",
    "  <li>\n",
    "      Plot $E_{train}(g_{\\lambda}^{-})$ with respect to $log_{10} \\lambda = \\{2,1,0,-1,...,-8,-9,-10\\}$. What is the $\\lambda$ with the minimum $E_{train}(g_{\\lambda}^{-})$? What is $E_{out}(g_{\\lambda}^{-})$ on such $\\lambda$? Break the tie by selecting the largest $\\lambda$. \n",
    "    </li>\n",
    "</ol>"
   ]
  },
  {
   "cell_type": "markdown",
   "metadata": {},
   "source": [
    "<ol start=\"17\">\n",
    "  <li>\n",
    "      Plot $E_{val}(g_{\\lambda}^{-})$ with respect to $log_{10} \\lambda = \\{2,1,0,-1,...,-8,-9,-10\\}$. What is the $\\lambda$ with the minimum $E_{val}(g_{\\lambda}^{-})$? What is $E_{out}(g_{\\lambda}^{-})$ on such $\\lambda$? Break the tie by selecting the largest $\\lambda$. \n",
    "    </li>\n",
    "</ol>"
   ]
  },
  {
   "cell_type": "code",
   "execution_count": 6,
   "metadata": {},
   "outputs": [
    {
     "name": "stdout",
     "output_type": "stream",
     "text": [
      "16.\n",
      "Minimum Etrain = 0.0 occurs when log(lambda) = [-8 -9] , Eout = [0.025 0.038]\n",
      "\n",
      "17.\n",
      "Minimum Eval = 0.0375 occurs when log(lambda) = [ 0 -1 -2 -3 -4 -5 -6 -7] , Eout = [0.028 0.022 0.021 0.021 0.021 0.021 0.021 0.021]\n"
     ]
    },
    {
     "data": {
      "image/png": "[encoded data removed]",
      "text/plain": [
       "<matplotlib.figure.Figure at 0x25a77784c88>"
      ]
     },
     "metadata": {},
     "output_type": "display_data"
    }
   ],
   "source": [
    "xtr, xv = x[0:120], x[120:200]\n",
    "ytr, yv = y[0:120], y[120:200]\n",
    "Error = np.zeros((Nld,3)) #Ein, Eval, Eout\n",
    "\n",
    "for i in range(Nld):\n",
    "    wreg = lgr(xtr, ytr, Lambda[i])\n",
    "    Error[i] = [Err(wreg, xtr, ytr), Err(wreg, xv, yv), Err(wreg, xt, yt)]\n",
    "    \n",
    "Ein, Eval, Eout = Error[:,0], Error[:,1], Error[:,2]\n",
    "mEin, mEval = Ein.min(), Eval.min()\n",
    "mEinI = np.array([i for i in range(Nld) if Ein[i] == mEin])\n",
    "mEvalI = np.array([i for i in range(Nld) if Eval[i] == mEval])\n",
    "        \n",
    "print(\"16.\"), print(\"Minimum Etrain =\", mEin,  \"occurs when log(lambda) =\", logLambda[mEinI],  \", Eout =\", Eout[mEinI])\n",
    "print()\n",
    "print(\"17.\"), print(\"Minimum Eval =\",   mEval, \"occurs when log(lambda) =\", logLambda[mEvalI], \", Eout =\", Eout[mEvalI])\n",
    "\n",
    "fig2 = plt.figure()\n",
    "fig2.suptitle(\"Relation between \" + r\"$\\lambda$\" + \" and \"+ r\"$E_{train}$\"+\", \"+ r\"$E_{val}$\", fontsize=14, fontweight='bold')\n",
    "ax = fig2.add_subplot(111)\n",
    "plt.plot(Lambda, Ein, 'k', label=r\"$E_{train}$\", color='#0000E3')\n",
    "plt.plot(Lambda, Eval, 'k', label=r\"$E_{val}$\", color='#64A600')\n",
    "legend = plt.legend(loc='upper left', shadow=True)\n",
    "ax.annotate('Minimum ' +r\"$E_{train}$\"+' = ' + str(mEin), xy=(Lambda[mEinI].max(), mEin), xytext=(Lambda[mEinI].max()*10, mEin+0.09),\n",
    " arrowprops=dict(facecolor='black', shrink=0.05))\n",
    "ax.annotate('Minimum ' +r\"$E_{val}$\"+' = ' + str(mEval), xy=(Lambda[mEvalI].max(), mEval), xytext=(Lambda[mEvalI].max()/100, mEval+0.09),\n",
    " arrowprops=dict(facecolor='black', shrink=0.05))\n",
    "plt.ylabel('Expected Value of 0/1 Error'), plt.xlabel(r\"$\\lambda$\")\n",
    "ax.set_xscale('log')\n",
    "legend.get_frame().set_facecolor('#CAFFFF')"
   ]
  },
  {
   "cell_type": "markdown",
   "metadata": {},
   "source": [
    "<ol start=\"18\">\n",
    "  <li>\n",
    "      Run the algorithm with the optimal $\\lambda$ of the previous problem on the whole $D$ to get $g_{\\lambda}^{-}$. What is $E_{in}(g_{\\lambda})$ and $E_{out}(g_{\\lambda})$?  \n",
    "    </li>\n",
    "</ol>"
   ]
  },
  {
   "cell_type": "code",
   "execution_count": 7,
   "metadata": {},
   "outputs": [
    {
     "name": "stdout",
     "output_type": "stream",
     "text": [
      "18.\n",
      "For the wreg with optimal lambda achieved in Q17 and trained in whole data:\n",
      "Ein =  0.035 , Eout =  0.02\n"
     ]
    }
   ],
   "source": [
    "wreg = lgr(x, y, Lambda[mEvalI].max())\n",
    "print(\"18.\")\n",
    "print(\"For the wreg with optimal lambda achieved in Q17 and trained in whole data:\")\n",
    "print(\"Ein = \", Err(wreg, x, y),\", Eout = \", Err(wreg, xt, yt))"
   ]
  },
  {
   "cell_type": "markdown",
   "metadata": {},
   "source": [
    "Now split the given training examples in $D$ to five folds, the first 40 being fold 1, the next 40 being fold 2, and so on. Again, we take a fixed split because the given examples are already randomly permuted. "
   ]
  },
  {
   "cell_type": "markdown",
   "metadata": {},
   "source": [
    "<ol start=\"19\">\n",
    "  <li>\n",
    "Plot $E_{cv}$ with respect to $log_{10} \\lambda = \\{2,1,0,-1,...,-8,-9,-10\\}$. What is the $\\lambda$ with the minimum Ecv, where $E_{cv}$ comes from the five folds defined above? Break the tie by selecting the largest $\\lambda$. \n",
    "    </li>\n",
    "</ol>"
   ]
  },
  {
   "cell_type": "code",
   "execution_count": 8,
   "metadata": {},
   "outputs": [
    {
     "name": "stdout",
     "output_type": "stream",
     "text": [
      "19.\n",
      "Minimum Ecv = 0.03 occurs when log(lambda) = -8\n"
     ]
    },
    {
     "data": {
      "image/png": "[encoded data removed]",
      "text/plain": [
       "<matplotlib.figure.Figure at 0x25a799a3b70>"
      ]
     },
     "metadata": {},
     "output_type": "display_data"
    }
   ],
   "source": [
    "Ecv = np.zeros(Nld)\n",
    "fold = 5\n",
    "for i in range(Nld):\n",
    "    for j in range(fold):        \n",
    "        xTrn, yTrn = np.delete(x, np.s_[40*j:40*(j+1)], axis = 0 ), np.delete(y, np.s_[40*j:40*(j+1)], axis = 0 )\n",
    "        xVal, yVal = x[40*j:40*(j+1)], y[40*j:40*(j+1)]\n",
    "        wreg = lgr(xTrn, yTrn, Lambda[i])\n",
    "        Ecv[i] += Err(wreg, xVal, yVal)/fold\n",
    "\n",
    "\n",
    "mEcv = Ecv.min()\n",
    "mEcvI = np.array([i for i in range(Nld) if Ecv[i] == mEcv])\n",
    "        \n",
    "print(\"19.\"), print(\"Minimum Ecv =\", mEcv,\"occurs when log(lambda) =\",logLambda[mEcvI].max())\n",
    "     \n",
    "fig3 = plt.figure()\n",
    "fig3.suptitle(\"Relation between \" + r\"$\\lambda$\" + \" and \" + r\"$E_{cv}$\", fontsize=14, fontweight='bold')\n",
    "ax = fig3.add_subplot(111)\n",
    "plt.plot(Lambda, Ecv, 'k', label='Etrain', color='#00A600')\n",
    "ax.annotate('Minimum '+ r\"$E_{cv}$\"+' = ' + str(mEcv), xy=(Lambda[mEcvI], mEcv), xytext=(Lambda[mEcvI]*10, mEcv+0.09),\n",
    " arrowprops=dict(facecolor='black', shrink=0.05))\n",
    "plt.ylabel(r'$E_{cv}$'+' (Expected Value of 0/1 Error)'), plt.xlabel(r\"$\\lambda$\")\n",
    "ax.set_xscale('log')"
   ]
  },
  {
   "cell_type": "markdown",
   "metadata": {},
   "source": [
    "<ol start=\"20\">\n",
    "  <li>\n",
    "Run the algorithm with the optimal $\\lambda$ of the previous problem on the whole $D$ to get $g_{\\lambda}$. What is $E_{in}(g_{\\lambda})$ and $E_{out}(g_{\\lambda})$? \n",
    "    </li>\n",
    "</ol>"
   ]
  },
  {
   "cell_type": "code",
   "execution_count": 9,
   "metadata": {},
   "outputs": [
    {
     "name": "stdout",
     "output_type": "stream",
     "text": [
      "20.\n",
      "For the wreg with optimal lambda achievd in Q19 and trained in whole data:\n",
      "Ein =  0.015 , Eout =  0.02\n"
     ]
    }
   ],
   "source": [
    "wreg = lgr(x, y, Lambda[mEcvI])\n",
    "print(\"20.\"), print(\"For the wreg with optimal lambda achievd in Q19 and trained in whole data:\")\n",
    "print(\"Ein = \", Err(wreg, x, y),\", Eout = \", Err(wreg, xt, yt))"
   ]
  }
 ],
 "metadata": {
  "kernelspec": {
   "display_name": "Python 3",
   "language": "python",
   "name": "python3"
  },
  "language_info": {
   "codemirror_mode": {
    "name": "ipython",
    "version": 3
   },
   "file_extension": ".py",
   "mimetype": "text/x-python",
   "name": "python",
   "nbconvert_exporter": "python",
   "pygments_lexer": "ipython3",
   "version": "3.6.3"
  }
 },
 "nbformat": 4,
 "nbformat_minor": 2
}
