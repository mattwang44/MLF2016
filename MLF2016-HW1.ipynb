{
 "cells": [
  {
   "cell_type": "markdown",
   "metadata": {},
   "source": [
    "This is the assignment of Machine Learning Foundation 2016, given by Prof. Hsuan-Tien Lin, Dept. of CSIE, NTU\n",
    "\n",
    "[Original link](https://www.csie.ntu.edu.tw/~htlin/course/mlfound16fall/hw1)"
   ]
  },
  {
   "cell_type": "markdown",
   "metadata": {},
   "source": [
    "### PLA and pocket algorithm.\n",
    "\n",
    "First, we use an artificial data set to study PLA. The data set is in [hw1_15_train.dat](http://www.csie.ntu.edu.tw/~htlin/course/mlfound16fall/hw1/hw1_15_train.dat ).\n",
    "\n",
    "Each line of the data set contains one ($x_n$, $y_n$) with $x_n \\in R^4$ . The first 4 numbers of the line contains the \n",
    "components of $x_n$ orderly, the last number is $y_n$. Please initialize your algorithm with $w = 0$ and take $sign(0)$ as 1. As a friendly reminder, remember to add $x_0 = 1$ as always! <br /><br /><br />"
   ]
  },
  {
   "cell_type": "code",
   "execution_count": 1,
   "metadata": {},
   "outputs": [],
   "source": [
    "# import \n",
    "import numpy as np\n",
    "import matplotlib.pyplot as plt"
   ]
  },
  {
   "cell_type": "code",
   "execution_count": 2,
   "metadata": {},
   "outputs": [],
   "source": [
    "## define util functions\n",
    "\n",
    "#ordinal numbers\n",
    "ordinal = lambda n: \"%d%s\" % (n,\"tsnrhtdd\"[(np.floor(n/10)%10!=1)*(n%10<4)*n%10::4])\n",
    "\n",
    "# get x & y\n",
    "def rawData2xy(arr):\n",
    "    x = np.concatenate((np.ones((len(arr),1)), arr[:,:4]), axis = 1)\n",
    "    y = arr[:, -1]\n",
    "    return x, y"
   ]
  },
  {
   "cell_type": "markdown",
   "metadata": {},
   "source": [
    "<ol start=\"15\">\n",
    "  <li>Implement a version of PLA by visiting examples in the naive cycle using the order of examples in the data set. Run the algorithm on the data set. What is the number of updates before the algorithm halts? What is the index of the example that results in the most number of updates?</li>\n",
    "</ol>"
   ]
  },
  {
   "cell_type": "code",
   "execution_count": 3,
   "metadata": {},
   "outputs": [],
   "source": [
    "# function of PLA\n",
    "def PLA(x, y, eta):\n",
    "    w   = np.zeros((1,5))\n",
    "    upt = np.zeros(len(arr)) # recording the indices where updates occur\n",
    "\n",
    "    #variables for counting    \n",
    "    update = 0      # update times\n",
    "    cyc    = 0      # no. of naive cycles after whole process\n",
    "\n",
    "    #loop\n",
    "    # err = np.sum(np.sign(np.dot(w, x.T)) != y)\n",
    "    while( np.sum(np.sign(np.dot(w, x.T)) != y) != 0):\n",
    "        for i in range(len(arr)):   \n",
    "            if np.sign(np.dot(w, x[i])) != y[i]:          \n",
    "                w = np.add(w, eta*y[i]*x[i])\n",
    "                update += 1 \n",
    "                upt[i] += 1\n",
    "        cyc += 1    \n",
    "\n",
    "    li = [i for i, j in enumerate(upt) if j == np.max(upt)] \n",
    "    return cyc, update, li, w[0]"
   ]
  },
  {
   "cell_type": "code",
   "execution_count": 4,
   "metadata": {},
   "outputs": [
    {
     "name": "stdout",
     "output_type": "stream",
     "text": [
      "After 2 naive cycle(s), \n",
      "w = [-3.         3.0841436 -1.583081   2.391305   4.5287635] after being updated for 45 times\n",
      "and the updates most occur at  58th, 124th training example.\n"
     ]
    }
   ],
   "source": [
    "# load data\n",
    "arr = np.loadtxt(\"hw1_15_train.dat\")\n",
    "\n",
    "# Create x & y\n",
    "x, y = rawData2xy(arr)\n",
    "\n",
    "# PLA\n",
    "cyc, update, li, w = PLA(x, y, 1)\n",
    "\n",
    "print(\"After\" ,cyc,\"naive cycle(s), \")\n",
    "print(\"w =\", w, \"after being updated for\", update,\"times\")\n",
    "print(\"and the updates most occur at \", \", \".join(ordinal(x) for x in li), \"training example.\")"
   ]
  },
  {
   "cell_type": "markdown",
   "metadata": {},
   "source": [
    "<br /><ol start=\"16\">\n",
    "  <li>Implement a version of PLA by visiting examples in fixed, pre-determined random cycles throughout the algorithm. Run the algorithm on the data set. Please repeat your experiment for 2000 times, each with a di erent random seed. What is the average number of updates before the algorithm halts? Plot a [histogram]( https://en.wikipedia.org/wiki/Histogram ) to show the number of updates versus frequency. \n",
    "    </li>\n",
    "</ol>\n"
   ]
  },
  {
   "cell_type": "code",
   "execution_count": 5,
   "metadata": {},
   "outputs": [
    {
     "name": "stdout",
     "output_type": "stream",
     "text": [
      "For the PLA algorithm with eta=1:\n",
      "The average update time is 40.501\n"
     ]
    },
    {
     "data": {
      "image/png": "[encoded data removed]",
      "text/plain": [
       "<matplotlib.figure.Figure at 0x1826125c128>"
      ]
     },
     "metadata": {},
     "output_type": "display_data"
    },
    {
     "name": "stdout",
     "output_type": "stream",
     "text": [
      "\n"
     ]
    }
   ],
   "source": [
    "repeat = 2000\n",
    "eta = 1\n",
    "updates = np.zeros((repeat))\n",
    "\n",
    "# shuffle sequence as seed\n",
    "seed = np.array(range(repeat))\n",
    "np.random.shuffle(seed)\n",
    "\n",
    "#loop\n",
    "for i in range(repeat):\n",
    "    # shuffle the data\n",
    "    np.random.seed(seed[i])\n",
    "    np.random.shuffle(arr)\n",
    "    \n",
    "    #create x and y\n",
    "    x, y = rawData2xy(arr)\n",
    "    \n",
    "    #PLA\n",
    "    _, update, _, _ = PLA(x, y, eta)\n",
    "    \n",
    "    updates[i] = update\n",
    "    \n",
    "print(\"For the PLA algorithm with eta=1:\")\n",
    "print(\"The average update time is\", np.average(updates)) \n",
    "\n",
    "#plot\n",
    "hist, bin_edges = np.histogram(updates, bins = range(int(np.max(updates))))\n",
    "plt.bar(bin_edges[:-1], hist, width = 1)\n",
    "plt.xlim(min(bin_edges), max(bin_edges))\n",
    "plt.xlabel(\"Update times\")\n",
    "plt.ylabel(\"Frequency\")\n",
    "plt.show()    \n",
    "print()"
   ]
  },
  {
   "cell_type": "markdown",
   "metadata": {},
   "source": [
    "17.\n",
    "\n",
    "Implement a version of PLA by visiting examples in fixed, pre-determined random cycles throughout the algorithm, while changing the update rule to be       \n",
    "    \n",
    "$ \\hspace{15mm} w_{t+1} \\leftarrow w_t + \\eta y_{n(t)} x_{n(t)} $ \n",
    "\n",
    "with $\\eta=0.25$. \n",
    "\n",
    "Note that your PLA in the previous problem corresponds to $\\eta=1$. Please repeat your experiment for 2000 times, each with a different random seed. What is the average number of updates before the algorithm halts? Plot a histogram to show the number of updates versus frequency. Compare your result to the previous problem and brie y discuss your findings. \n",
    "\n",
    "\n",
    " "
   ]
  },
  {
   "cell_type": "code",
   "execution_count": 6,
   "metadata": {},
   "outputs": [
    {
     "name": "stdout",
     "output_type": "stream",
     "text": [
      "For the PLA algorithm with eta=0.25:\n",
      "The average update time is 39.8105\n"
     ]
    },
    {
     "data": {
      "image/png": "[encoded data removed]",
      "text/plain": [
       "<matplotlib.figure.Figure at 0x1826334d278>"
      ]
     },
     "metadata": {},
     "output_type": "display_data"
    },
    {
     "name": "stdout",
     "output_type": "stream",
     "text": [
      "\n"
     ]
    }
   ],
   "source": [
    "repeat = 2000\n",
    "eta = .25\n",
    "updates = np.zeros((repeat))\n",
    "#np.random.shuffle(seed)\n",
    "\n",
    "# loop\n",
    "for i in range(repeat):\n",
    "    # shuffle the data\n",
    "    np.random.seed(seed[i])\n",
    "    np.random.shuffle(arr)\n",
    "    \n",
    "    # create x and y\n",
    "    x, y = rawData2xy(arr)\n",
    "    \n",
    "    # PLA\n",
    "    _, update, _, _ = PLA(x, y, eta)\n",
    "    \n",
    "    updates[i] = update\n",
    "print(\"For the PLA algorithm with eta=0.25:\")\n",
    "print(\"The average update time is\", np.average(updates)) \n",
    "\n",
    "# plot\n",
    "hist, bin_edges = np.histogram(updates, bins = range(int(np.max(updates))))\n",
    "plt.bar(bin_edges[:-1], hist, width = 1)\n",
    "plt.xlim(min(bin_edges), max(bin_edges))\n",
    "plt.xlabel(\"Update times\")\n",
    "plt.ylabel(\"Frequency\")\n",
    "plt.show()    \n",
    "print()"
   ]
  },
  {
   "cell_type": "markdown",
   "metadata": {},
   "source": [
    "Next, we play with the **pocket algorithm**. Modify your PLA in Problem 16 to visit examples purely randomly, and then add the 'pocket' steps to the algorithm. \n",
    "We will use [hw1_18_train.dat](http://www.csie.ntu.edu.tw/~htlin/course/mlfound16fall/hw1/hw1_18_train.dat) as the training data set $D$, and [hw1_18_test.dat ](http://www.csie.ntu.edu.tw/~htlin/course/mlfound16fall/hw1/hw1_18_test.dat) as the test set for \"verifying\" the $g$ returned by your algorithm (see lecture 4 about verifying). The sets are of the same format as the previous one. "
   ]
  },
  {
   "cell_type": "markdown",
   "metadata": {},
   "source": [
    "<br /><ol start=\"18\">\n",
    "  <li>Run the pocket algorithm with a total of 50 updates on $D$, and verify the performance of $w_{pocket}$ using the test set. Please repeat your experiment for 2000 times, each with a different random seed. What is the average error rate on the test set? Plot a histogram to show error rate versus frequency.  \n",
    "    </li>\n",
    "</ol>\n",
    " \n",
    "\n",
    " "
   ]
  },
  {
   "cell_type": "code",
   "execution_count": 7,
   "metadata": {},
   "outputs": [],
   "source": [
    "# function of PLA_pocket\n",
    "def PLA_pkt(x, y, eta, upt_times):\n",
    "    w_best = np.zeros((1,5))\n",
    "    w      = np.zeros((1,5))\n",
    "    err_best = np.sum(np.sign(np.dot(w_best, x.T)) != y)\n",
    "\n",
    "    #variables for counting    \n",
    "    update = 0    # update times\n",
    "\n",
    "    #loop\n",
    "    ind = 0\n",
    "    while(update < upt_times):\n",
    "        i = ind % len(x)\n",
    "        if np.sign(np.dot(w, x[i])) != y[i]:\n",
    "            w = np.add(w, eta*y[i]*x[i])\n",
    "            update += 1 \n",
    "            err = np.sum(np.sign(np.dot(w, x.T)) != y)\n",
    "            if err < err_best:\n",
    "                w_best = w\n",
    "                err_best = err\n",
    "        ind += 1\n",
    "    return w_best"
   ]
  },
  {
   "cell_type": "code",
   "execution_count": 8,
   "metadata": {},
   "outputs": [
    {
     "name": "stdout",
     "output_type": "stream",
     "text": [
      "For the PLA pocket algorithm with 50 update times:\n",
      "The average error rate in test data is 13.18 %\n"
     ]
    },
    {
     "data": {
      "image/png": "[encoded data removed]",
      "text/plain": [
       "<matplotlib.figure.Figure at 0x18261215c50>"
      ]
     },
     "metadata": {},
     "output_type": "display_data"
    }
   ],
   "source": [
    "rawTrainData    = np.loadtxt(\"hw1_18_train.dat\")\n",
    "x_test, y_test  = rawData2xy(np.loadtxt(\"hw1_18_test.dat\"))\n",
    "\n",
    "repeat = 2000\n",
    "eta = 1\n",
    "upt_times = 50\n",
    "ErrRate = np.zeros((repeat))\n",
    "#np.random.shuffle(seed)\n",
    "\n",
    "# loop\n",
    "for i in range(repeat):\n",
    "    # shuffle the data\n",
    "    np.random.seed(seed[i])\n",
    "    np.random.shuffle(rawTrainData)\n",
    "    \n",
    "    # create x and y\n",
    "    x_train, y_train = rawData2xy(rawTrainData)\n",
    "    \n",
    "    # PLA_pocket algo.\n",
    "    w_best = PLA_pkt(x_train, y_train, eta, upt_times)\n",
    "    \n",
    "    # error rate of test dataset\n",
    "    ErrRate[i] = np.sum(np.sign(np.dot(w_best, x_test.T)) != y_test) / len(x_test) *100 # percentage\n",
    "\n",
    "print(\"For the PLA pocket algorithm with 50 update times:\")\n",
    "print(\"The average error rate in test data is\", np.around(np.average(ErrRate), decimals=2),\"%\")\n",
    "\n",
    "#plot\n",
    "hist, bin_edges = np.histogram(ErrRate, bins = range(101))\n",
    "plt.bar(bin_edges[:-1], hist, width = 0.75, align=\"center\")\n",
    "plt.xlim(min(bin_edges), max(bin_edges))\n",
    "plt.xlabel(\"Error rate (%)\")\n",
    "plt.ylabel(\"Frequency\")\n",
    "plt.show()"
   ]
  },
  {
   "cell_type": "markdown",
   "metadata": {},
   "source": [
    "<br /><ol start=\"19\">\n",
    "  <li>Modify your algorithm in Problem 18 to run for 100 updates instead of 50, and verify the performance of $w_{pocket}$ using the test set. Please repeat your experiment for 2000 times, each with a different random seed. What is the average error rate on the test set? Plot a histogram to show error rate versus frequency. Compare your result to Problem 18 and briefly discuss your findings. \n",
    "    </li>\n",
    "</ol>"
   ]
  },
  {
   "cell_type": "code",
   "execution_count": 9,
   "metadata": {},
   "outputs": [
    {
     "name": "stdout",
     "output_type": "stream",
     "text": [
      "For the PLA pocket algorithm with 100 update times:\n",
      "The average error rate in test data is 11.44 %\n"
     ]
    },
    {
     "data": {
      "image/png": "[encoded data removed]",
      "text/plain": [
       "<matplotlib.figure.Figure at 0x182612158d0>"
      ]
     },
     "metadata": {},
     "output_type": "display_data"
    }
   ],
   "source": [
    "repeat = 2000\n",
    "eta = 1\n",
    "upt_times = 100\n",
    "ErrRate = np.zeros((repeat))\n",
    "#np.random.shuffle(seed)\n",
    "\n",
    "# loop\n",
    "for i in range(repeat):\n",
    "    # shuffle the data\n",
    "    np.random.seed(seed[i])\n",
    "    np.random.shuffle(rawTrainData)\n",
    "    \n",
    "    # create x and y\n",
    "    x_train, y_train = rawData2xy(rawTrainData)\n",
    "    \n",
    "    # PLA_pocket algo.\n",
    "    w_best = PLA_pkt(x_train, y_train, eta, upt_times)\n",
    "    \n",
    "    # error rate of test dataset\n",
    "    ErrRate[i] = np.sum(np.sign(np.dot(w_best, x_test.T)) != y_test) / len(x_test) *100 # percentage\n",
    "\n",
    "print(\"For the PLA pocket algorithm with 100 update times:\")\n",
    "print(\"The average error rate in test data is\", np.around(np.average(ErrRate), decimals=2),\"%\")\n",
    "\n",
    "#plot\n",
    "hist, bin_edges = np.histogram(ErrRate, bins = range(101))\n",
    "plt.bar(bin_edges[:-1], hist, width = 0.75, align=\"center\")\n",
    "plt.xlim(min(bin_edges), max(bin_edges))\n",
    "plt.xlabel(\"Error rate (%)\")\n",
    "plt.ylabel(\"Frequency\")\n",
    "plt.show()"
   ]
  },
  {
   "cell_type": "markdown",
   "metadata": {},
   "source": [
    "<br /><ol start=\"20\">\n",
    "  <li>Modify your algorithm in Problem 19 to return $w_{100}$ (the PLA vector after 100 updates) instead of $\\hat{w}$ (the pocket vector) after 100 updates. Run the modified algorithm on $D$, and verify the performance using the test set. Please repeat your experiment for 2000 times, each with a different random seed. What is the average error rate on the test set? Plot a histogram to show error rate versus frequency. Compare your result to Problem 19 and briefly discuss your findings. \n",
    "    </li>\n",
    "</ol>"
   ]
  },
  {
   "cell_type": "code",
   "execution_count": 10,
   "metadata": {},
   "outputs": [],
   "source": [
    "# function of PLA with 100 updates\n",
    "def PLA_100upt(x, y, eta):\n",
    "    w = np.zeros((1,5))\n",
    "\n",
    "    #variables for counting    \n",
    "    update = 0    # update times\n",
    "\n",
    "    #loop\n",
    "    ind = 0\n",
    "    while(update < 100):\n",
    "        i = ind % len(x)\n",
    "        if np.sign(np.dot(w, x[i])) != y[i]:\n",
    "            w = np.add(w, eta*y[i]*x[i])\n",
    "            update += 1 \n",
    "        ind += 1\n",
    "    return w"
   ]
  },
  {
   "cell_type": "code",
   "execution_count": 11,
   "metadata": {},
   "outputs": [
    {
     "name": "stdout",
     "output_type": "stream",
     "text": [
      "For the PLA algorithm with 100 update times:\n",
      "The average error rate in test data is 34.02 %\n"
     ]
    },
    {
     "data": {
      "image/png": "[encoded data removed]",
      "text/plain": [
       "<matplotlib.figure.Figure at 0x182632c13c8>"
      ]
     },
     "metadata": {},
     "output_type": "display_data"
    }
   ],
   "source": [
    "repeat = 2000\n",
    "eta = 1\n",
    "upt_times = 100\n",
    "ErrRate = np.zeros((repeat))\n",
    "#np.random.shuffle(seed)\n",
    "\n",
    "# loop\n",
    "for i in range(repeat):\n",
    "    # shuffle the data\n",
    "    np.random.seed(seed[i])\n",
    "    np.random.shuffle(rawTrainData)\n",
    "    \n",
    "    # create x and y\n",
    "    x_train, y_train = rawData2xy(rawTrainData)\n",
    "    \n",
    "    # PLA_pocket algo.\n",
    "    w100 = PLA_100upt(x_train, y_train, eta)\n",
    "    \n",
    "    # error rate of test dataset\n",
    "    ErrRate[i] = np.sum(np.sign(np.dot(w100, x_test.T)) != y_test) / len(x_test) *100 # percentage\n",
    "\n",
    "print(\"For the PLA algorithm with 100 update times:\")\n",
    "print(\"The average error rate in test data is\", np.around(np.average(ErrRate), decimals=2),\"%\")\n",
    "\n",
    "#plot\n",
    "hist, bin_edges = np.histogram(ErrRate, bins = range(101))\n",
    "plt.bar(bin_edges[:-1], hist, width = 0.75, align=\"center\")\n",
    "plt.xlim(min(bin_edges), max(bin_edges))\n",
    "plt.xlabel(\"Error rate (%)\")\n",
    "plt.ylabel(\"Frequency\")\n",
    "plt.show()"
   ]
  }
 ],
 "metadata": {
  "kernelspec": {
   "display_name": "Python 3",
   "language": "python",
   "name": "python3"
  },
  "language_info": {
   "codemirror_mode": {
    "name": "ipython",
    "version": 3
   },
   "file_extension": ".py",
   "mimetype": "text/x-python",
   "name": "python",
   "nbconvert_exporter": "python",
   "pygments_lexer": "ipython3",
   "version": "3.6.3"
  }
 },
 "nbformat": 4,
 "nbformat_minor": 2
}
