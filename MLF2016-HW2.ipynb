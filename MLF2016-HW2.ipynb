{
 "cells": [
  {
   "cell_type": "markdown",
   "metadata": {},
   "source": [
    "This is the assignment of Machine Learning Foundation 2016, given by Prof. Hsuan-Tien Lin, Dept. of CSIE, NTU\n",
    "\n",
    "[Original link](https://www.csie.ntu.edu.tw/~htlin/course/mlfound16fall/hw2)"
   ]
  },
  {
   "cell_type": "markdown",
   "metadata": {},
   "source": [
    "### Decision Stump Algorithm\n",
    "In class, we taught about the learning model of \"positive and negative rays\" (which is simply one-dimensional perceptron) for one-dimensional data. The model contains hypotheses of the form: \n",
    "\n",
    "$$h_{s,\\theta}(x) = s \\bullet sign(x-\\theta)$$\n",
    "\n",
    "The model is frequently named the \"decision stump\" model and is one of the simplest learning models. As shown in class, for one-dimensional data, the VC dimension of the decision stump model is $2$. In fact, the decision stump model is one of the few models that we could easily minimize $E_{in}$ for binary classification efficiently by enumerating all possible thresholds. In particular, for $N$ examples, there are at most $2N$ dichotomies (see page 22 of class05 slides), and thus at most $2N$ dfferent $E_{in}$ values. We can then easily choose the dichotomy that leads to the lowest $E_{in}$, where ties can be broken by randomly choosing among the lowest-$E_{in}$ ones. The chosen dichotomy stands for a combination of some 'spot' (range of $\\theta$) and $s$, and commonly the median of the range is chosen as the $\\theta$ that realizes the dichotomy. \n",
    "In this problem, you are asked to implement such and algorithm and run your program on an artificial data set. First of all, start by generating a one-dimensional data by the procedure below: \n",
    "1. Generate $x$ by a uniform distribution in $[-1,1]$. \n",
    "4. Generate $y$ by $\\tilde{s}(x)$ + noise where $\\tilde{s}(x) = sign(x)$ and the noise flips the result with 20% probability."
   ]
  },
  {
   "cell_type": "markdown",
   "metadata": {},
   "source": [
    "<ol start=\"16\">\n",
    "  <li>For any decision stump $h_{s,\\theta}(x)$ with $\\theta \\in [-1,1]$, express $E_{out}(h_{s,\\theta})$ as a function of $\\theta$ and $s$. Please provide your derivation steps. \n",
    "    </li>\n",
    "</ol>"
   ]
  },
  {
   "cell_type": "markdown",
   "metadata": {},
   "source": [
    "$\\lambda = 0.8$ \n",
    "\n",
    "$\n",
    "\\mu = \\left\\{\n",
    "\\begin{array}{l}\n",
    "\\dfrac{\\theta}{2}; \\mu \\geq 0, s = 1 \\\\ \\\\\n",
    "\\dfrac{\\mid\\theta\\mid}{2}; \\mu < 0, s = 1 \\\\ \\\\\n",
    "\\dfrac{2-\\theta}{2}; \\mu \\geq 0, s = -1 \\\\ \\\\\n",
    "\\dfrac{\\mid2-\\theta\\mid}{2}; \\mu < 0, s = -1 \\\\ \\\\\n",
    "\\end{array}\n",
    "\\right .\n",
    "$$\\rightarrow$$\n",
    "\\mu = \\left\\{\n",
    "\\begin{array}{l}\n",
    "\\dfrac{\\mid\\theta\\mid}{2}; s = 1 \\\\ \\\\\n",
    "\\dfrac{\\mid2-\\theta\\mid}{2}; s = -1 \\\\ \\\\\n",
    "\\end{array}\n",
    "\\right .\n",
    "$$\\rightarrow$$\n",
    "\\mu = \\dfrac{s+1}{2} \\dfrac{\\mid\\theta\\mid}{2}-\\dfrac{s-1}{2} \\dfrac{\\mid2-\\theta\\mid}{2}\n",
    "$\n",
    "\n",
    "Total probability of error $=\\lambda\\mu+(1-\\lambda)(1-\\mu)=0.5+0.3s\\mid\\theta-1\\mid$"
   ]
  },
  {
   "cell_type": "markdown",
   "metadata": {},
   "source": [
    "<br /><ol start=\"17\">\n",
    "  <li>Generate a data set of size $10$ by the procedure above and run the one-dimensional decision stump algorithm on the data set. Record $E_{in}$ and compute $E_{out}$ with the formula above. Repeat the experiment (including data generation, running the decision stump algorithm, and computing $E_{in}$ and $E_{out}$) $5000$ times. What is the average $E_{in}$? Plot a histogram for your $E_{in}$ distribution.  \n",
    "    </li><br />\n",
    "    <li>Continuing from the previous question, what is the average $E_{out}$? Plot a histogram for your $E_{out}$ distribution. \n",
    "    </li>\n",
    "</ol>"
   ]
  },
  {
   "cell_type": "code",
   "execution_count": 1,
   "metadata": {},
   "outputs": [],
   "source": [
    "import numpy as np\n",
    "import matplotlib.pyplot as plt"
   ]
  },
  {
   "cell_type": "code",
   "execution_count": 2,
   "metadata": {},
   "outputs": [
    {
     "name": "stdout",
     "output_type": "stream",
     "text": [
      "average Ein = 13.918 %\n",
      "average Eout = 30.06 %\n"
     ]
    },
    {
     "data": {
      "image/png": "[encoded data removed]",
      "text/plain": [
       "<matplotlib.figure.Figure at 0x2079e8946a0>"
      ]
     },
     "metadata": {},
     "output_type": "display_data"
    }
   ],
   "source": [
    "size = 10\n",
    "ld = 0.8        #lambda\n",
    "repeat = 5000\n",
    "Ein = np.zeros((repeat))\n",
    "Eout = np.zeros((repeat))\n",
    "for j in range(repeat):  \n",
    "    # generate x & y \n",
    "    x = np.sort(np.random.uniform(-1,1,size))\n",
    "    y = np.sign(x)*np.where(np.random.random(size)<(1-ld),-1,1)\n",
    "    \n",
    "    # get theta\n",
    "    c = np.r_[-1,x,1]\n",
    "    thetas = [(c[i] + c[i+1]) / 2 for i in range(size+1)]  \n",
    "    \n",
    "    # decision stump\n",
    "    best = (0, 0, size)    # best = (s, theta_t, Ein[j])\n",
    "    for theta in thetas:\n",
    "        yp = np.where(x > theta, 1, -1)\n",
    "        err_yp = np.sum(yp != y)\n",
    "        err_yn = size - err_yp\n",
    "        if best[2] > err_yn:\n",
    "            best = (-1, theta, err_yn)\n",
    "        if best[2] > err_yp:\n",
    "            best = (1, theta, err_yp)\n",
    "    Ein[j]  = best[2]\n",
    "    Eout[j] = 0.5 + 0.3*best[0]*(np.abs(best[1])-1)\n",
    "Ein, Eout = Ein/size*100, Eout*100\n",
    "\n",
    "print(\"average Ein =\", np.average(Ein), \"%\")\n",
    "print(\"average Eout =\", np.around(np.average(Eout), decimals=2), \"%\")\n",
    "\n",
    "#plot\n",
    "plt.subplot(311)\n",
    "hist, bin_edges = np.histogram(Ein, bins = range(-2, 101))\n",
    "plt.bar(bin_edges[:-1], hist, width = 1.0, align=\"center\")\n",
    "plt.xlim(min(bin_edges), max(bin_edges))\n",
    "plt.xlabel(r\"$E_{in}(\\%) $\")\n",
    "plt.ylabel(\"Frequency\")\n",
    "plt.title(\"Distribution of \"+r'$ E_{in}$', fontsize=16)\n",
    "\n",
    "plt.subplot(313)\n",
    "hist, bin_edges = np.histogram(Eout, bins = range(-2, 101))\n",
    "plt.bar(bin_edges[:-1], hist, width = 1.0, align=\"center\")\n",
    "plt.xlim(min(bin_edges), max(bin_edges))\n",
    "plt.xlabel(r\"$E_{out}(\\%) $\")\n",
    "plt.ylabel(\"Frequency\")\n",
    "plt.title(\"Distribution of \"+r'$ E_{out}$', fontsize=16)\n",
    "\n",
    "plt.show()   "
   ]
  },
  {
   "cell_type": "markdown",
   "metadata": {},
   "source": [
    "Decision stumps can also work for multi-dimensional data. In particular, each decision stump now deals with a specific dimension $i$, as shown below. \n",
    "\n",
    "$$h_{s,i,\\theta}(x) = s \\bullet sign(x_i-\\theta)$$\n",
    "\n",
    "Implement the following decision stump algorithm for multi-dimensional data: \n",
    "1. for each dimension $i = 1,2,...,d$, find the best decision stump h_{s,i,\\theta} using the one-dimensional decision stump algorithm that you have just implemented. \n",
    "2. return the \"best of best\" decision stump in terms of $E_{in}$. If there is a tie, please randomly choose among the lowest-$E_{in}$ ones. \n",
    "\n",
    "The training data $D_{train}$ is available at [hw2_train.dat](http://www.csie.ntu.edu.tw/~htlin/course/mlfound16fall/hw2/hw2_train.dat)\n",
    "\n",
    "The testing data $D_{test}$ is available at [hw2_test.dat](http://www.csie.ntu.edu.tw/~htlin/course/mlfound16fall/hw2/hw2_test.dat)"
   ]
  },
  {
   "cell_type": "markdown",
   "metadata": {},
   "source": [
    "<ol start=\"19\">\n",
    "  <li>Run the algorithm on the $D_{train}$. What is the optimal decision stump returned by your program? What is the $E_{in}$ of the optimal decision stump?\n",
    "    </li><br />\n",
    "    <li>Use the returned decision stump to predict the label of each example within the $D_{test}$. Report an estimate of $E_{out}$ by $D_{test}$. \n",
    "    </li>\n",
    "</ol>"
   ]
  },
  {
   "cell_type": "code",
   "execution_count": 3,
   "metadata": {},
   "outputs": [
    {
     "name": "stdout",
     "output_type": "stream",
     "text": [
      "The index of the dimension where the optimal decision stump generated is 3\n",
      "Ein = 25.0 % , s = -1 , theta = 1.6175\n",
      "Eout= 35.5 %\n"
     ]
    }
   ],
   "source": [
    "train = np.loadtxt(\"hw2_train.dat\")\n",
    "test = np.loadtxt(\"hw2_test.dat\")\n",
    "xtr, ytr = train[:,:-1], train[:,-1]\n",
    "xte, yte = test[:,:-1], test[:,-1]\n",
    "dim = len(xtr[0])\n",
    "size_tr = len(xtr)\n",
    "size_te = len(xte)\n",
    "\n",
    "#best = (best_Ein, best_index, best_s, best_theta)\n",
    "best = (size_tr, 0, 0, 0)\n",
    "\n",
    "Xs_tr = np.sort(xtr,axis=0).T\n",
    "Ys_tr = ytr[np.argsort(xtr,axis=0)].T\n",
    "thetas = (np.concatenate([-1+Xs_tr[:,0:1], Xs_tr],axis=1) + np.concatenate([Xs_tr, 1+Xs_tr[:,-2:-1]],axis=1)) / 2\n",
    "for i in range(dim):    \n",
    "    for theta in thetas[i]:\n",
    "        yp = np.where(Xs_tr[i] >  theta, 1, -1)\n",
    "        err_yp = np.sum(yp!=Ys_tr[i])\n",
    "        err_yn = size_tr - err_yp\n",
    "        if best[0] > err_yn:\n",
    "            best = (err_yn, i, -1, theta)\n",
    "        if best[0] > err_yp:\n",
    "            best = (err_yp, i, 1, theta)\n",
    "Ein = best[0]/size_tr*100\n",
    "print(\"The index of the dimension where the optimal decision stump generated is\",best[1])\n",
    "print(\"Ein =\",Ein,\"% , s =\", best[2], \", theta =\", np.around(best[3],decimals=4)) \n",
    "\n",
    "\n",
    "#Eout\n",
    "Xs_te = np.sort(xte,axis=0).T\n",
    "Ys_te = yte[np.argsort(xte,axis=0)].T\n",
    " \n",
    "if best[2] == 1:\n",
    "    yprev = np.where(Xs_te[best[1]] >  best[3], 1, -1)\n",
    "elif best[2] == -1:\n",
    "    yprev = np.where(Xs_te[best[1]] <=  best[3], 1, -1)\n",
    "Eout = np.sum(yprev != Ys_te[best[1]])/size_te*100\n",
    "\n",
    "print(\"Eout=\",Eout,\"%\")"
   ]
  }
 ],
 "metadata": {
  "kernelspec": {
   "display_name": "Python 3",
   "language": "python",
   "name": "python3"
  },
  "language_info": {
   "codemirror_mode": {
    "name": "ipython",
    "version": 3
   },
   "file_extension": ".py",
   "mimetype": "text/x-python",
   "name": "python",
   "nbconvert_exporter": "python",
   "pygments_lexer": "ipython3",
   "version": "3.6.3"
  }
 },
 "nbformat": 4,
 "nbformat_minor": 2
}
